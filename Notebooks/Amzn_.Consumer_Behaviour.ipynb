{
 "cells": [
  {
   "cell_type": "code",
   "execution_count": null,
   "id": "959d9fd3-2d0b-4c95-86fb-f116f1e6b06c",
   "metadata": {
    "tags": []
   },
   "outputs": [],
   "source": [
    "import pandas as pd\n",
    "import itertools\n",
    "from sklearn.metrics import classification_report,confusion_matrix, accuracy_score\n",
    "from sklearn.model_selection import train_test_split\n",
    "import pandas as pd\n",
    "import numpy as np\n",
    "import matplotlib.pyplot as plt\n",
    "import xgboost as xgb\n",
    "from lightgbm import LGBMClassifier\n",
    "from sklearn.impute import SimpleImputer"
   ]
  },
  {
   "cell_type": "code",
   "execution_count": null,
   "id": "608174c1-0b68-4f15-8b1d-ff97007c48f5",
   "metadata": {
    "tags": []
   },
   "outputs": [],
   "source": [
    "data = pd.read_csv(\"Datasets/Amazon Customer Behavior Survey.csv\")\n",
    "print(data.head())"
   ]
  },
  {
   "cell_type": "code",
   "execution_count": null,
   "id": "bcf80866-4158-4b69-87b2-62c87b39d219",
   "metadata": {
    "tags": []
   },
   "outputs": [],
   "source": [
    "data['Timestamp'] = pd.to_datetime(data['Timestamp'])\n",
    "# Convert the datetime object to a float value (timestamp)\n",
    "data['Timestamp'] = data['Timestamp'].apply(lambda x: x.timestamp())"
   ]
  },
  {
   "cell_type": "code",
   "execution_count": null,
   "id": "1c9215b3-6aa2-448f-8286-50ad4f7366b4",
   "metadata": {
    "tags": []
   },
   "outputs": [],
   "source": [
    "data['Timestamp'].info"
   ]
  },
  {
   "cell_type": "code",
   "execution_count": null,
   "id": "1138f5c5-9285-418c-9119-0c5a0e6c69e6",
   "metadata": {
    "tags": []
   },
   "outputs": [],
   "source": [
    "data['Gender'].info"
   ]
  },
  {
   "cell_type": "code",
   "execution_count": null,
   "id": "aa105494-d533-42f7-8167-8c1870dbe743",
   "metadata": {
    "tags": []
   },
   "outputs": [],
   "source": [
    "# Create a mapping of gender categories to numeric values\n",
    "gender_mapping = {\n",
    "    'Female': 0,\n",
    "    'Male': 1,\n",
    "    'Prefer not to say': 2,\n",
    "    'Other': 3\n",
    "    # Add more categories and numeric values as needed\n",
    "}\n",
    "\n",
    "# Use a lambda function and map to convert the values to floats\n",
    "data['Gender'] = data['Gender'].map(lambda x: gender_mapping.get(x, float('nan')))"
   ]
  },
  {
   "cell_type": "code",
   "execution_count": null,
   "id": "2622d0e7-54c6-435b-87f1-6358a33fd327",
   "metadata": {
    "tags": []
   },
   "outputs": [],
   "source": [
    "data['Gender'].value_counts()"
   ]
  },
  {
   "cell_type": "code",
   "execution_count": null,
   "id": "46b8b70f-8219-4811-9ede-d42f11a2340c",
   "metadata": {
    "tags": []
   },
   "outputs": [],
   "source": [
    "# Fit the imputer on the data and transform the Series\n",
    "data['Gender'] = imputer.fit_transform(data['Gender'].values.reshape(-1, 1))"
   ]
  },
  {
   "cell_type": "code",
   "execution_count": null,
   "id": "118efa73-81cb-45cb-8dd0-ce57808c1c93",
   "metadata": {
    "tags": []
   },
   "outputs": [],
   "source": [
    "data['Gender'].info"
   ]
  },
  {
   "cell_type": "code",
   "execution_count": null,
   "id": "bbb7ae5a-9224-4979-ad80-19711f4cb86b",
   "metadata": {
    "tags": []
   },
   "outputs": [],
   "source": [
    "data['Purchase_Frequency'].value_counts()"
   ]
  },
  {
   "cell_type": "code",
   "execution_count": null,
   "id": "560bcd01-fadd-46a5-bbba-3133e1175d80",
   "metadata": {
    "tags": []
   },
   "outputs": [],
   "source": [
    "pf_mapping = {\n",
    "    'Few time a month': 0,\n",
    "    'Less than once a month': 1,\n",
    "    'Once a week': 2,\n",
    "    'Once a month': 3,\n",
    "    'Multiple times a week': 4\n",
    "}\n",
    "\n",
    "data['Purchase_Frequency'] = data['Purchase_Frequency'].map(lambda x: pf_mapping.get(x, float('nan')))"
   ]
  },
  {
   "cell_type": "code",
   "execution_count": null,
   "id": "af90f7cf-d2e8-47c9-86ee-c05b4a3cae14",
   "metadata": {
    "tags": []
   },
   "outputs": [],
   "source": [
    "data['Purchase_Frequency'].info"
   ]
  },
  {
   "cell_type": "code",
   "execution_count": null,
   "id": "078a75f5-37d6-474a-9d08-ac6776ad4ab9",
   "metadata": {
    "tags": []
   },
   "outputs": [],
   "source": [
    "# Create an instance of SimpleImputer with the desired strategy\n",
    "imputer = SimpleImputer(strategy='mean')"
   ]
  },
  {
   "cell_type": "code",
   "execution_count": null,
   "id": "6dd58ba3-d76a-4e3f-81d5-3c745ca396a2",
   "metadata": {
    "tags": []
   },
   "outputs": [],
   "source": [
    "# Fit the imputer on the data and transform the Series\n",
    "data['Purchase_Frequency'] = imputer.fit_transform(data['Purchase_Frequency'].values.reshape(-1, 1))"
   ]
  },
  {
   "cell_type": "code",
   "execution_count": null,
   "id": "5bd308a0-7862-4d85-8a78-02941b7dde86",
   "metadata": {
    "tags": []
   },
   "outputs": [],
   "source": [
    "# Convert the result back to a Pandas Series\n",
    "data['Purchase_Frequency'].info"
   ]
  },
  {
   "cell_type": "code",
   "execution_count": null,
   "id": "d9bc7a98-5ce2-4e69-872c-0daf13e1e0f0",
   "metadata": {
    "tags": []
   },
   "outputs": [],
   "source": [
    "data['Purchase_Categories'].value_counts()"
   ]
  },
  {
   "cell_type": "code",
   "execution_count": null,
   "id": "07fe24b4-4419-4484-bf6d-5d104f12f866",
   "metadata": {
    "tags": []
   },
   "outputs": [],
   "source": [
    "pc_mapping = {\n",
    "    'Beauty and Personal Care': 0,\n",
    "    'Clothing and Fashion': 1,\n",
    "    'Beauty and Personal Care;Clothing and Fashion': 3,\n",
    "    'Beauty and Personal Care;Clothing and Fashion;Home and Kitchen': 4,\n",
    "    'Groceries and Gourmet Food;Beauty and Personal Care;Clothing and Fashion;Home and Kitchen;others': 5,\n",
    "    'Clothing and Fashion;Home and Kitchen': 6,\n",
    "    'Home and Kitchen': 7,\n",
    "    'Beauty and Personal Care;Home and Kitchen': 8,\n",
    "    'Clothing and Fashion;Home and Kitchen;others': 9,\n",
    "    'Clothing and Fashion;others': 10,\n",
    "    'Groceries and Gourmet Food': 11,\n",
    "    'Groceries and Gourmet Food;Beauty and Personal Care;Clothing and Fashion;Home and Kitchen': 12,\n",
    "    'Beauty and Personal Care;Clothing and Fashion;others': 13,\n",
    "    'Groceries and Gourmet Food;Beauty and Personal Care;Clothing and Fashion': 16,\n",
    "    'Home and Kitchen;others': 17,\n",
    "    'Beauty and Personal Care;Clothing and Fashion;Home and Kitchen;others': 18,\n",
    "    'Beauty and Personal Care;others': 19,\n",
    "    'Groceries and Gourmet Food;Beauty and Personal Care': 20,\n",
    "    'Groceries and Gourmet Food;Home and Kitchen;others': 21,\n",
    "    'Groceries and Gourmet Food;Clothing and Fashion': 22,\n",
    "    'Groceries and Gourmet Food;Home and Kitchen': 23,\n",
    "    'Beauty and Personal Care;Home and Kitchen;others': 24,\n",
    "    'Groceries and Gourmet Food;Beauty and Personal Care;Home and Kitchen': 25,\n",
    "    'Groceries and Gourmet Food;Clothing and Fashion;Home and Kitchen': 26,\n",
    "    'Groceries and Gourmet Food;Clothing and Fashion;Home and Kitchen;others': 27,\n",
    "    'Groceries and Gourmet Food;Beauty and Personal Care;others': 28,\n",
    "    'Groceries and Gourmet Food;Clothing and Fashion;others': 29,\n",
    "    'Groceries and Gourmet Food;Beauty and Personal Care;Clothing and Fashion;others': 30}\n",
    "\n",
    "data['Purchase_Categories'] = data['Purchase_Categories'].map(lambda x: pc_mapping.get(x, float()))"
   ]
  },
  {
   "cell_type": "code",
   "execution_count": null,
   "id": "57319b4a-a62d-4ac6-85ad-7ad6397ae4df",
   "metadata": {
    "tags": []
   },
   "outputs": [],
   "source": [
    "data['Purchase_Categories'].value_counts()"
   ]
  },
  {
   "cell_type": "code",
   "execution_count": null,
   "id": "815e812a-4c6e-4e1c-8701-fba90e271cf7",
   "metadata": {
    "tags": []
   },
   "outputs": [],
   "source": [
    "data['Personalized_Recommendation_Frequency'].value_counts()"
   ]
  },
  {
   "cell_type": "code",
   "execution_count": null,
   "id": "aa48ff36-a662-4e48-898e-2a8efef8eece",
   "metadata": {
    "tags": []
   },
   "outputs": [],
   "source": [
    "prf_mapping = {\n",
    "    'No': 0,\n",
    "    'Sometimes': 1,\n",
    "    'Yes': 2\n",
    "}\n",
    "\n",
    "data['Personalized_Recommendation_Frequency'] = data['Personalized_Recommendation_Frequency'].map(lambda x: prf_mapping.get(x, float()))"
   ]
  },
  {
   "cell_type": "code",
   "execution_count": null,
   "id": "f52ef52a-c41f-4f68-861c-f02ab6347add",
   "metadata": {
    "tags": []
   },
   "outputs": [],
   "source": [
    "data['Personalized_Recommendation_Frequency'].value_counts()"
   ]
  },
  {
   "cell_type": "code",
   "execution_count": null,
   "id": "017665da-0221-434c-9f3a-c68d4432167a",
   "metadata": {
    "tags": []
   },
   "outputs": [],
   "source": [
    "data['Personalized_Recommendation_Frequency'].info"
   ]
  },
  {
   "cell_type": "code",
   "execution_count": null,
   "id": "dded2da2-8f1c-4356-afee-8e43ad8f4313",
   "metadata": {
    "tags": []
   },
   "outputs": [],
   "source": [
    "data.columns"
   ]
  },
  {
   "cell_type": "code",
   "execution_count": null,
   "id": "7b8b8a42-0488-4fd3-a6c4-affff0be049b",
   "metadata": {
    "tags": []
   },
   "outputs": [],
   "source": []
  },
  {
   "cell_type": "code",
   "execution_count": null,
   "id": "2ac5c077-10e4-40ea-9686-b87b2dfb04f7",
   "metadata": {
    "tags": []
   },
   "outputs": [],
   "source": [
    "X = data[['Timestamp', 'age', 'Purchase_Frequency', 'Purchase_Categories', 'Personalized_Recommendation_Frequency', 'Shopping_Satisfaction']]\n",
    "\n",
    "y = data['Gender']"
   ]
  },
  {
   "cell_type": "code",
   "execution_count": null,
   "id": "28f36fe3-530e-4b2b-84bc-ad869928005e",
   "metadata": {
    "tags": []
   },
   "outputs": [],
   "source": [
    "X.shape"
   ]
  },
  {
   "cell_type": "code",
   "execution_count": null,
   "id": "869ae5b6-b31e-45ed-9ba1-be45ac394d6f",
   "metadata": {
    "tags": []
   },
   "outputs": [],
   "source": [
    "y = y.astype(int)"
   ]
  },
  {
   "cell_type": "code",
   "execution_count": null,
   "id": "1992f36a-1113-47a5-abd8-17545a4a470e",
   "metadata": {
    "tags": []
   },
   "outputs": [],
   "source": [
    "y"
   ]
  },
  {
   "cell_type": "code",
   "execution_count": null,
   "id": "bdb93120-d342-4f8c-a575-be9d87443acf",
   "metadata": {
    "tags": []
   },
   "outputs": [],
   "source": [
    "X_train, X_test, y_train, y_test = train_test_split(X, y, stratify=y, test_size=0.5,shuffle=True, random_state=5)"
   ]
  },
  {
   "cell_type": "code",
   "execution_count": null,
   "id": "ce5b8b0f-6b7d-4e9f-8aab-73eaa44834e9",
   "metadata": {
    "tags": []
   },
   "outputs": [],
   "source": [
    "from sklearn.ensemble import RandomForestClassifier\n",
    "from sklearn import metrics\n",
    "rf = RandomForestClassifier(n_estimators=100,max_features='sqrt')\n",
    "rf.fit(X_train,y_train)\n",
    "y_pred_rf = rf.predict(X_test)\n",
    "print(classification_report(y_test,y_pred_rf,target_names=['Female', 'Male','Prefer not to say']))\n",
    "\n",
    "score = metrics.accuracy_score(y_test, y_pred_rf)\n",
    "print(\"accuracy:   %0.3f\" % score)"
   ]
  },
  {
   "cell_type": "code",
   "execution_count": null,
   "id": "ee0bebd1-52ff-4bd0-9d7a-88f5ede90f56",
   "metadata": {
    "tags": []
   },
   "outputs": [],
   "source": [
    "lgb = LGBMClassifier(objective='multiclass',boosting_type= 'gbdt',n_jobs = 5, \n",
    "          silent = True, random_state=5)\n",
    "LGB_C = lgb.fit(X_train, y_train)\n",
    "\n",
    "\n",
    "y_pred_lgb = LGB_C.predict(X_test)\n",
    "print(classification_report(y_test,y_pred_lgb,target_names=['Female', 'Male','Prefer not to say']))\n",
    "\n",
    "score = metrics.accuracy_score(y_test, y_pred_lgb)\n",
    "print(\"accuracy:   %0.3f\" % score)"
   ]
  },
  {
   "cell_type": "code",
   "execution_count": null,
   "id": "f984e7d4-7304-4ec4-b42d-7028127c4342",
   "metadata": {
    "tags": []
   },
   "outputs": [],
   "source": [
    "xgb_c = xgb.XGBClassifier(n_estimators= 100)\n",
    "xgb_c.fit(X_train,y_train)\n",
    "y_pred_x = xgb_c.predict(X_test)\n",
    "print(classification_report(y_test,y_pred_x,target_names=['Female', 'Male','Prefer not to say']))\n",
    "\n",
    "\n",
    "score = metrics.accuracy_score(y_test, y_pred_x)\n",
    "print(\"accuracy:   %0.3f\" % score)"
   ]
  },
  {
   "cell_type": "code",
   "execution_count": null,
   "id": "e7f3eb46-49bd-4f22-88d6-dc4ce295af47",
   "metadata": {
    "tags": []
   },
   "outputs": [],
   "source": [
    "def predict_purchase_frequency(model, data, gender_type):\n",
    "    # Prepare the input data for prediction\n",
    "    input_data = X_test\n",
    "    \n",
    "    # Use the trained model to make predictions\n",
    "    prediction = model.predict(input_data[['Timestamp', 'age', 'Purchase_Frequency', 'Purchase_Categories', 'Personalized_Recommendation_Frequency', \n",
    "                                           'Shopping_Satisfaction']])\n",
    "    \n",
    "    return prediction[0]  # Return the predicted purchase frequency\n",
    "\n",
    "# Test the function with different gender types\n",
    "gender_types = ['Female', 'Male', 'Prefer not to say']\n",
    "for gender_type in gender_types:\n",
    "    predicted_frequency = predict_purchase_frequency(xgb_c, data, gender_type)\n",
    "    if predicted_frequency == 0:\n",
    "        predicted_frequency = \"Few times a month\"\n",
    "    elif predicted_frequency == 1:\n",
    "        predicted_frequency = \"Less than once a month\"\n",
    "    elif predicted_frequency == 2:\n",
    "        predicted_frequency = \"Once a week\"\n",
    "    elif predicted_frequency == 3:\n",
    "        predicted_frequency = \"Once a month\"\n",
    "    else:\n",
    "        predicted_frequency = \"Multiple times a week\"\n",
    "    print(f\"Predicted Purchase Frequency for {gender_type}: {predicted_frequency}\")"
   ]
  },
  {
   "cell_type": "code",
   "execution_count": null,
   "id": "8c0c7f08-a621-4e76-9f0e-46cccd2b4e04",
   "metadata": {},
   "outputs": [],
   "source": []
  }
 ],
 "metadata": {
  "kernelspec": {
   "display_name": "Python 3 (ipykernel)",
   "language": "python",
   "name": "python3"
  },
  "language_info": {
   "codemirror_mode": {
    "name": "ipython",
    "version": 3
   },
   "file_extension": ".py",
   "mimetype": "text/x-python",
   "name": "python",
   "nbconvert_exporter": "python",
   "pygments_lexer": "ipython3",
   "version": "3.11.4"
  }
 },
 "nbformat": 4,
 "nbformat_minor": 5
}
